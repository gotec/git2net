{
 "cells": [
  {
   "cell_type": "markdown",
   "metadata": {},
   "source": [
    "# `git2net` meets Pandas\n",
    "\n",
    "This tutorial illustrates the combination of `git2net` for parsing repositories and the usage of pandas to analyse it from a statistical perspective. If you are not familiar with the basic concepts of both packages take a view on \n",
    "\n",
    "* git2net tutorial on [https://github.com/gotec/git2net/blob/master/TUTORIAL.ipynb](https://github.com/gotec/git2net/blob/master/TUTORIAL.ipynb)\n",
    "* pandas introductions on [Link](https://github.com/TomAugspurger/effective-pandas) or [Link](https://wavedatalab.github.io/datawithpython/index.html)\n",
    "\n",
    "```\n",
    "\n",
    " +---------------+   git2net          +---------------+\n",
    " | Repository on | -----------------> | local         |\n",
    " | Github        | clone_repository() | repository    |\n",
    " +---------------+                    +---------------+\n",
    "                                        | git2net\n",
    "                                        | mine_git_repo()\n",
    "                                        v\n",
    " +---------------+   pandas           +---------------+\n",
    " | pandas        |<------------------ | sqlite data   |\n",
    " | dataframe     |  read_sql_query()  | base          |\n",
    " +---------------+                    +---------------+ \n",
    "      |\n",
    "      v\n",
    " Ready for data mining :-)\n",
    "\n",
    "```\n",
    "\n",
    "## Data generation"
   ]
  },
  {
   "cell_type": "code",
   "execution_count": 1,
   "metadata": {},
   "outputs": [],
   "source": [
    "import pygit2 as git2\n",
    "import os\n",
    "import shutil"
   ]
  },
  {
   "cell_type": "markdown",
   "metadata": {},
   "source": [
    "First of all we have to provide our object of investigation - a local copy of the repository. We use the same methods as described in the basic tutorial"
   ]
  },
  {
   "cell_type": "code",
   "execution_count": 2,
   "metadata": {},
   "outputs": [],
   "source": [
    "git_repo_url = 'https://github.com/gotec/git2net.git'\n",
    "local_directory = '.'\n",
    "git_repo_dir = 'git2net4analysis'\n",
    "\n",
    "if os.path.exists(git_repo_dir):\n",
    "    shutil.rmtree(git_repo_dir)\n",
    "\n",
    "repo = git2.clone_repository(git_repo_url, git_repo_dir)"
   ]
  },
  {
   "cell_type": "markdown",
   "metadata": {},
   "source": [
    "In a second step the following lines of code apply the `mine_git_repo` command and generate the sqlite database containing commits and edits of the project."
   ]
  },
  {
   "cell_type": "code",
   "execution_count": 3,
   "metadata": {},
   "outputs": [
    {
     "name": "stdout",
     "output_type": "stream",
     "text": [
      "Found no database on provided path. Starting from scratch.\n"
     ]
    },
    {
     "name": "stderr",
     "output_type": "stream",
     "text": [
      "\r",
      "Parallel (8 processes):   0%|          | 0/197 [00:00<?, ?it/s]"
     ]
    },
    {
     "name": "stdout",
     "output_type": "stream",
     "text": [
      "Commit exceeding max_modifications:  bd0ad7b12500239321a8b7c6ba547f6111c781bb\n",
      "Commit exceeding max_modifications:  eed200119f675f2abc69a5f72c3505e903b82fd2\n"
     ]
    },
    {
     "name": "stderr",
     "output_type": "stream",
     "text": [
      "Parallel (8 processes):   5%|▌         | 10/197 [00:00<00:34,  5.47it/s]"
     ]
    },
    {
     "name": "stdout",
     "output_type": "stream",
     "text": [
      "Commit exceeding max_modifications:  40cc53f783aeb835fbec20f4d5e165af4e24fd32\n",
      "Commit exceeding max_modifications:  9a042c9c7c6a99733d1b94bf0d440f5d22389a79\n"
     ]
    },
    {
     "name": "stderr",
     "output_type": "stream",
     "text": [
      "\r",
      "Parallel (8 processes):   6%|▌         | 12/197 [00:00<00:26,  6.94it/s]"
     ]
    },
    {
     "name": "stdout",
     "output_type": "stream",
     "text": [
      "Commit exceeding max_modifications:  a2d25731c924765db4f21fa3afa7d263b7c9e79d\n",
      "Commit exceeding max_modifications:  c657e752b411caf531e3fff8fc0ea8e0b756ed43\n",
      "Commit exceeding max_modifications:  87c4d8f3206b400785602de03bdf87f109a65008\n"
     ]
    },
    {
     "name": "stderr",
     "output_type": "stream",
     "text": [
      "\r",
      "Parallel (8 processes):   8%|▊         | 16/197 [00:01<00:20,  8.95it/s]"
     ]
    },
    {
     "name": "stdout",
     "output_type": "stream",
     "text": [
      "Commit exceeding max_modifications:  95eb238eeb60d6f4d1eee5acdba1d195d6e0cf70\n",
      "Commit exceeding max_modifications:  16b2226a47e2747a3de9ff07f5fec0ad1abd8e0c\n",
      "Commit exceeding max_modifications:  f8e0c813a4a3049725b4c65a69bf0b487a685276\n",
      "Commit exceeding max_modifications:  eb40bbb2e7c68c7ab73bef6d91b41d2376581907\n",
      "Commit exceeding max_modifications:  64701617d0d468bba66760046d5519c54c7f3371\n",
      "Commit exceeding max_modifications:  c81b190fe260050fcd7ff86a7e947b47cf8f8085\n",
      "Commit exceeding max_modifications:  e75736eaf9bd01e6f410c4dc51d9e58dcf20eacb\n"
     ]
    },
    {
     "name": "stderr",
     "output_type": "stream",
     "text": [
      "\r",
      "Parallel (8 processes):  10%|▉         | 19/197 [00:01<00:16, 10.80it/s]"
     ]
    },
    {
     "name": "stdout",
     "output_type": "stream",
     "text": [
      "Commit exceeding max_modifications:  91d5d98881c6289f42f30508c4b26d3fa7baf6ca\n"
     ]
    },
    {
     "name": "stderr",
     "output_type": "stream",
     "text": [
      "\r",
      "Parallel (8 processes):  11%|█         | 21/197 [00:01<00:14, 12.24it/s]"
     ]
    },
    {
     "name": "stdout",
     "output_type": "stream",
     "text": [
      "Commit exceeding max_modifications:  240a13c3b87558cb85963d3cda415a63b54a8cbf\n"
     ]
    },
    {
     "name": "stderr",
     "output_type": "stream",
     "text": [
      "Parallel (8 processes):  13%|█▎        | 25/197 [00:01<00:11, 14.97it/s]"
     ]
    },
    {
     "name": "stdout",
     "output_type": "stream",
     "text": [
      "Commit exceeding max_modifications:  a3213cd995e850c8966355755c4ac2ff61f65503\n"
     ]
    },
    {
     "name": "stderr",
     "output_type": "stream",
     "text": [
      "Parallel (8 processes):  19%|█▉        | 37/197 [00:01<00:07, 22.85it/s]"
     ]
    },
    {
     "name": "stdout",
     "output_type": "stream",
     "text": [
      "Commit exceeding max_modifications:  9ef69d206d7cedb82b12d68a39445b2e936cd15f\n",
      "Commit exceeding max_modifications:  71b1cd496f6dc800acd7e59260d86b647cc58291\n",
      "Commit exceeding max_modifications:  806fc44d2250c316c75692601362aecabc63d137\n",
      "Commit exceeding max_modifications:  9e72df61bf300b42c3fbc16d94153e8edbbe6dd6\n",
      "Commit exceeding max_modifications:  090c00c342283134a23900f85c1d232499617365\n"
     ]
    },
    {
     "name": "stderr",
     "output_type": "stream",
     "text": [
      "\r",
      "Parallel (8 processes):  20%|██        | 40/197 [00:02<00:07, 21.46it/s]"
     ]
    },
    {
     "name": "stdout",
     "output_type": "stream",
     "text": [
      "Commit exceeding max_modifications:  cf51fa8ddf40c85645cf9e6e7fb5c64b322a20ef\n",
      "Commit exceeding max_modifications:  509e1394637f74a357ef2bf0c567dc6520a80eb6\n",
      "Commit exceeding max_modifications:  1504d68a4daf1e7529c6ac1a192794da765da9d2\n",
      "Commit exceeding max_modifications:  73e2b77a786cf19ec4a04e0a95ae4a0f93c45c54\n",
      "Commit exceeding max_modifications:  b3b8e33bd6ae43ba9ff50f4b84cc2c6c897fe92b\n"
     ]
    },
    {
     "name": "stderr",
     "output_type": "stream",
     "text": [
      "\r",
      "Parallel (8 processes):  25%|██▍       | 49/197 [00:02<00:05, 26.68it/s]"
     ]
    },
    {
     "name": "stdout",
     "output_type": "stream",
     "text": [
      "Commit exceeding max_modifications:  2294efe5bf28560eb11437f54e18c4ff710e2bd1\n"
     ]
    },
    {
     "name": "stderr",
     "output_type": "stream",
     "text": [
      "Parallel (8 processes):  29%|██▉       | 58/197 [00:02<00:04, 30.16it/s]"
     ]
    },
    {
     "name": "stdout",
     "output_type": "stream",
     "text": [
      "Commit exceeding max_modifications:  7e7a8bd30a12628028234308ae6c7e2f5b5ec2b2\n"
     ]
    },
    {
     "name": "stderr",
     "output_type": "stream",
     "text": [
      "\r",
      "Parallel (8 processes):  31%|███▏      | 62/197 [00:02<00:04, 29.64it/s]"
     ]
    },
    {
     "name": "stdout",
     "output_type": "stream",
     "text": [
      "Commit exceeding max_modifications:  0a8bc07dfd7c481b8936fddd99e7a8a8aac74dfe\n"
     ]
    },
    {
     "name": "stderr",
     "output_type": "stream",
     "text": [
      "Parallel (8 processes):  37%|███▋      | 72/197 [00:03<00:05, 21.50it/s]"
     ]
    },
    {
     "name": "stdout",
     "output_type": "stream",
     "text": [
      "Commit exceeding max_modifications:  6b837c8f5383d16434afa0eaaab347873113230b\n"
     ]
    },
    {
     "name": "stderr",
     "output_type": "stream",
     "text": [
      "\r",
      "Parallel (8 processes):  38%|███▊      | 75/197 [00:03<00:05, 22.85it/s]"
     ]
    },
    {
     "name": "stdout",
     "output_type": "stream",
     "text": [
      "Commit exceeding max_modifications:  5e259c75123f17c47e270eace26145fe1f20167b\n",
      "Commit exceeding max_modifications:  03d8af2aee9f4b4f320ec83deecccf9245b8ce03\n",
      "Commit exceeding max_modifications:  bbc55b0ec194710e39bfe098acaf930598eb045c\n"
     ]
    },
    {
     "name": "stderr",
     "output_type": "stream",
     "text": [
      "\r",
      "Parallel (8 processes):  40%|████      | 79/197 [00:03<00:04, 25.14it/s]"
     ]
    },
    {
     "name": "stdout",
     "output_type": "stream",
     "text": [
      "Commit exceeding max_modifications:  4515874def08a49af37a4d47615a2e05dc508d89\n",
      "Commit exceeding max_modifications:  4de4c314a1261e784f1a54969a32ab4dfa439d76\n",
      "Commit exceeding max_modifications:  3f6435c4acbf8d1b6b02e9be02b514c2c2d53446\n",
      "Commit exceeding max_modifications:  8a5d405bc8263b6f482f9e6c38534023de8956e5\n"
     ]
    },
    {
     "name": "stderr",
     "output_type": "stream",
     "text": [
      "Parallel (8 processes):  48%|████▊     | 94/197 [00:03<00:03, 32.15it/s]"
     ]
    },
    {
     "name": "stdout",
     "output_type": "stream",
     "text": [
      "Commit exceeding max_modifications:  839a9501b36ade7481f9a50fe91e57f690b1570f\n",
      "Commit exceeding max_modifications:  ed7b0b70e6062c4ab9f5f66d99f3413b3b983d94\n"
     ]
    },
    {
     "name": "stderr",
     "output_type": "stream",
     "text": [
      "\r",
      "Parallel (8 processes):  50%|████▉     | 98/197 [00:03<00:03, 28.51it/s]"
     ]
    },
    {
     "name": "stdout",
     "output_type": "stream",
     "text": [
      "Commit exceeding max_modifications:  bf62853697e83eb52863ef433d5e0771f1b4273d\n",
      "Commit exceeding max_modifications:  8e5219f0da4da3781e6274708f00cace52a8ee6f\n"
     ]
    },
    {
     "name": "stderr",
     "output_type": "stream",
     "text": [
      "\r",
      "Parallel (8 processes):  52%|█████▏    | 102/197 [00:04<00:03, 25.78it/s]"
     ]
    },
    {
     "name": "stdout",
     "output_type": "stream",
     "text": [
      "Commit exceeding max_modifications:  6f9b1ad5ee73c87750ef6c1d48f3580d4b4e35ac\n"
     ]
    },
    {
     "name": "stderr",
     "output_type": "stream",
     "text": [
      "\r",
      "Parallel (8 processes):  53%|█████▎    | 105/197 [00:04<00:04, 22.56it/s]"
     ]
    },
    {
     "name": "stdout",
     "output_type": "stream",
     "text": [
      "Commit exceeding max_modifications:  77341fec9057940ff7fd75dd780d3eec9c0b2bb1\n",
      "Commit exceeding max_modifications:  c2d7f0cf365472789d4e369a4fb5ad6da5e19278\n",
      "Commit exceeding max_modifications:  9d5dd27c210a0306e0bf193af6ad567e0edac0b3\n"
     ]
    },
    {
     "name": "stderr",
     "output_type": "stream",
     "text": [
      "\r",
      "Parallel (8 processes):  55%|█████▍    | 108/197 [00:04<00:05, 16.88it/s]"
     ]
    },
    {
     "name": "stdout",
     "output_type": "stream",
     "text": [
      "Commit exceeding max_modifications:  5b6e6953445fe01ec1317a482239307fbdc2ca27\n"
     ]
    },
    {
     "name": "stderr",
     "output_type": "stream",
     "text": [
      "\r",
      "Parallel (8 processes):  56%|█████▋    | 111/197 [00:04<00:04, 17.66it/s]"
     ]
    },
    {
     "name": "stdout",
     "output_type": "stream",
     "text": [
      "Commit exceeding max_modifications:  7df9aefe5f71d70e6bdd26b6f1c242c547be670e\n"
     ]
    },
    {
     "name": "stderr",
     "output_type": "stream",
     "text": [
      "\r",
      "Parallel (8 processes):  58%|█████▊    | 114/197 [00:04<00:04, 17.96it/s]"
     ]
    },
    {
     "name": "stdout",
     "output_type": "stream",
     "text": [
      "Commit exceeding max_modifications:  2fe35a2c8001ef7f1494eb32b175baaa6615f3a5\n",
      "Commit exceeding max_modifications:  7e24ad664e91ee6da32c999e66bc374023657af1\n",
      "Commit exceeding max_modifications:  ed9f24ef27a185a1b4dec32777f6e7cb0491113a\n"
     ]
    },
    {
     "name": "stderr",
     "output_type": "stream",
     "text": [
      "\r",
      "Parallel (8 processes):  59%|█████▉    | 117/197 [00:05<00:04, 18.08it/s]"
     ]
    },
    {
     "name": "stdout",
     "output_type": "stream",
     "text": [
      "Commit exceeding max_modifications:  2fe365271e5f1506a17724fbb83af5db0ad49cfa\n",
      "Commit exceeding max_modifications:  23f26b519e913580d02c7755f7617125683a784f\n"
     ]
    },
    {
     "name": "stderr",
     "output_type": "stream",
     "text": [
      "Parallel (8 processes):  68%|██████▊   | 133/197 [00:05<00:02, 25.83it/s]"
     ]
    },
    {
     "name": "stdout",
     "output_type": "stream",
     "text": [
      "Commit exceeding max_modifications:  256e113a3592167b10456496d804a04592395d09\n",
      "Commit exceeding max_modifications:  15318963c6a4c25bbcff4182d3f55a17f1393e69\n"
     ]
    },
    {
     "name": "stderr",
     "output_type": "stream",
     "text": [
      "\r",
      "Parallel (8 processes):  70%|██████▉   | 137/197 [00:05<00:02, 28.82it/s]"
     ]
    },
    {
     "name": "stdout",
     "output_type": "stream",
     "text": [
      "Commit exceeding max_modifications:  d758d4c10b5c98a5d5dcaf5652de6cb791591669\n",
      "Commit exceeding max_modifications:  5349d14fc3b4da1bf97d64c4537140acd9d7c962\n",
      "Commit exceeding max_modifications:  542ffb6935793a27d710dfd01ffc7797754769ed\n"
     ]
    },
    {
     "name": "stderr",
     "output_type": "stream",
     "text": [
      "\r",
      "Parallel (8 processes):  72%|███████▏  | 141/197 [00:05<00:02, 27.35it/s]"
     ]
    },
    {
     "name": "stdout",
     "output_type": "stream",
     "text": [
      "Commit exceeding max_modifications:  70a5836f1a6e8b2109c352608a737c56647a542b\n"
     ]
    },
    {
     "name": "stderr",
     "output_type": "stream",
     "text": [
      "Parallel (8 processes):  77%|███████▋  | 151/197 [00:06<00:01, 29.98it/s]"
     ]
    },
    {
     "name": "stdout",
     "output_type": "stream",
     "text": [
      "Commit exceeding max_modifications:  c442dd375f9f4e23982b4708fb7e096a47c8d395\n"
     ]
    },
    {
     "name": "stderr",
     "output_type": "stream",
     "text": [
      "\r",
      "Parallel (8 processes):  79%|███████▊  | 155/197 [00:06<00:01, 29.42it/s]"
     ]
    },
    {
     "name": "stdout",
     "output_type": "stream",
     "text": [
      "Commit exceeding max_modifications:  1b66ee94df628da88dab7905c3edadf87d8d92d7\n"
     ]
    },
    {
     "name": "stderr",
     "output_type": "stream",
     "text": [
      "Parallel (8 processes): 100%|██████████| 197/197 [00:11<00:00, 16.92it/s]\n"
     ]
    }
   ],
   "source": [
    "import git2net\n",
    "\n",
    "sqlite_db_file = 'git2net.db'\n",
    "if os.path.exists(sqlite_db_file):\n",
    "    os.remove(sqlite_db_file)\n",
    "\n",
    "max_modifications = 1  \n",
    "git2net.mine_git_repo(git_repo_dir, sqlite_db_file, max_modifications=max_modifications)"
   ]
  },
  {
   "cell_type": "markdown",
   "metadata": {},
   "source": [
    "## Data analysis\n",
    "\n",
    "Let's take a view on data base content. Obviously, we found two tables. The second code snippet illustrates the usage of sql statements to evaluate the content. We extract the unique author names from the `commit` list."
   ]
  },
  {
   "cell_type": "code",
   "execution_count": 4,
   "metadata": {},
   "outputs": [
    {
     "data": {
      "text/plain": [
       "[('_metadata',), ('edits',), ('commits',)]"
      ]
     },
     "execution_count": 4,
     "metadata": {},
     "output_type": "execute_result"
    }
   ],
   "source": [
    "import sqlite3\n",
    "\n",
    "db = sqlite3.connect(sqlite_db_file)\n",
    "cursor = db.cursor()\n",
    "cursor.execute(\"SELECT name FROM sqlite_master WHERE type='table';\")\n",
    "cursor.fetchall()"
   ]
  },
  {
   "cell_type": "code",
   "execution_count": 5,
   "metadata": {},
   "outputs": [
    {
     "data": {
      "text/plain": [
       "[('Ingo Scholtes',), ('Christoph Gote',), ('Jan Philip',), ('Sebastian Zug',)]"
      ]
     },
     "execution_count": 5,
     "metadata": {},
     "output_type": "execute_result"
    }
   ],
   "source": [
    "cursor.execute(\"SELECT DISTINCT author_name FROM commits\")\n",
    "rows = cursor.fetchall()\n",
    "\n",
    "rows"
   ]
  },
  {
   "cell_type": "markdown",
   "metadata": {},
   "source": [
    "Let's take a view on an alternative approach using python pandas. We load the data base in a pandas DataFrame in a first step. Afterwards the evaluation is much more comfortable due to the fact that the pandas API includes a huge amount of tools for statistical analysis and visualization."
   ]
  },
  {
   "cell_type": "code",
   "execution_count": 6,
   "metadata": {},
   "outputs": [
    {
     "data": {
      "text/html": [
       "<div>\n",
       "<style scoped>\n",
       "    .dataframe tbody tr th:only-of-type {\n",
       "        vertical-align: middle;\n",
       "    }\n",
       "\n",
       "    .dataframe tbody tr th {\n",
       "        vertical-align: top;\n",
       "    }\n",
       "\n",
       "    .dataframe thead th {\n",
       "        text-align: right;\n",
       "    }\n",
       "</style>\n",
       "<table border=\"1\" class=\"dataframe\">\n",
       "  <thead>\n",
       "    <tr style=\"text-align: right;\">\n",
       "      <th></th>\n",
       "      <th>hash</th>\n",
       "      <th>author_email</th>\n",
       "      <th>author_name</th>\n",
       "      <th>committer_email</th>\n",
       "      <th>committer_name</th>\n",
       "      <th>author_date</th>\n",
       "      <th>committer_date</th>\n",
       "      <th>author_timezone</th>\n",
       "      <th>committer_timezone</th>\n",
       "      <th>no_of_modifications</th>\n",
       "      <th>commit_message_len</th>\n",
       "      <th>project_name</th>\n",
       "      <th>parents</th>\n",
       "      <th>merge</th>\n",
       "      <th>in_main_branch</th>\n",
       "      <th>branches</th>\n",
       "    </tr>\n",
       "  </thead>\n",
       "  <tbody>\n",
       "    <tr>\n",
       "      <th>0</th>\n",
       "      <td>9d225f34fd63daced3c58c3b7df8d540ec5fc826</td>\n",
       "      <td>scholtes@ifi.uzh.ch</td>\n",
       "      <td>Ingo Scholtes</td>\n",
       "      <td>scholtes@ifi.uzh.ch</td>\n",
       "      <td>Ingo Scholtes</td>\n",
       "      <td>2019-01-08 14:30:15</td>\n",
       "      <td>2019-01-08 14:30:15</td>\n",
       "      <td>-3600</td>\n",
       "      <td>-3600</td>\n",
       "      <td>1</td>\n",
       "      <td>19</td>\n",
       "      <td>git2net4analysis</td>\n",
       "      <td>d7def7ec7a8305990640d86470d97f1a16727c5a</td>\n",
       "      <td>0</td>\n",
       "      <td>1</td>\n",
       "      <td>master</td>\n",
       "    </tr>\n",
       "    <tr>\n",
       "      <th>1</th>\n",
       "      <td>d7def7ec7a8305990640d86470d97f1a16727c5a</td>\n",
       "      <td>scholtes@ifi.uzh.ch</td>\n",
       "      <td>Ingo Scholtes</td>\n",
       "      <td>scholtes@ifi.uzh.ch</td>\n",
       "      <td>Ingo Scholtes</td>\n",
       "      <td>2019-01-08 10:58:20</td>\n",
       "      <td>2019-01-08 10:58:20</td>\n",
       "      <td>-3600</td>\n",
       "      <td>-3600</td>\n",
       "      <td>1</td>\n",
       "      <td>14</td>\n",
       "      <td>git2net4analysis</td>\n",
       "      <td></td>\n",
       "      <td>0</td>\n",
       "      <td>1</td>\n",
       "      <td>master</td>\n",
       "    </tr>\n",
       "    <tr>\n",
       "      <th>2</th>\n",
       "      <td>40e36389f3443c8feb2a9274104c85e7e9c57fd5</td>\n",
       "      <td>scholtes@ifi.uzh.ch</td>\n",
       "      <td>Ingo Scholtes</td>\n",
       "      <td>scholtes@ifi.uzh.ch</td>\n",
       "      <td>Ingo Scholtes</td>\n",
       "      <td>2019-01-09 13:32:06</td>\n",
       "      <td>2019-01-09 13:32:06</td>\n",
       "      <td>-3600</td>\n",
       "      <td>-3600</td>\n",
       "      <td>1</td>\n",
       "      <td>12</td>\n",
       "      <td>git2net4analysis</td>\n",
       "      <td>69d9c6578fa1aafcbe2ed548159ba16cf39ffc46</td>\n",
       "      <td>0</td>\n",
       "      <td>1</td>\n",
       "      <td>master</td>\n",
       "    </tr>\n",
       "    <tr>\n",
       "      <th>3</th>\n",
       "      <td>7de40e6c54bae5f0f43bd056b710eac3e2153fc7</td>\n",
       "      <td>ischoltes@ethz.ch</td>\n",
       "      <td>Ingo Scholtes</td>\n",
       "      <td>ischoltes@ethz.ch</td>\n",
       "      <td>Ingo Scholtes</td>\n",
       "      <td>2019-01-09 19:30:19</td>\n",
       "      <td>2019-01-09 19:30:19</td>\n",
       "      <td>-3600</td>\n",
       "      <td>-3600</td>\n",
       "      <td>1</td>\n",
       "      <td>12</td>\n",
       "      <td>git2net4analysis</td>\n",
       "      <td>d4b61a32104ca72d1f850077e5bfcfa479b43106</td>\n",
       "      <td>0</td>\n",
       "      <td>1</td>\n",
       "      <td>master</td>\n",
       "    </tr>\n",
       "    <tr>\n",
       "      <th>4</th>\n",
       "      <td>db0e20b413363cb93447ed4567bb8e959fc7f306</td>\n",
       "      <td>scholtes@ifi.uzh.ch</td>\n",
       "      <td>Ingo Scholtes</td>\n",
       "      <td>scholtes@ifi.uzh.ch</td>\n",
       "      <td>Ingo Scholtes</td>\n",
       "      <td>2019-01-08 19:48:13</td>\n",
       "      <td>2019-01-08 19:48:13</td>\n",
       "      <td>-3600</td>\n",
       "      <td>-3600</td>\n",
       "      <td>1</td>\n",
       "      <td>15</td>\n",
       "      <td>git2net4analysis</td>\n",
       "      <td>c71a73528640d81b325e19aa38a3f68e4fe34366</td>\n",
       "      <td>0</td>\n",
       "      <td>1</td>\n",
       "      <td>master</td>\n",
       "    </tr>\n",
       "  </tbody>\n",
       "</table>\n",
       "</div>"
      ],
      "text/plain": [
       "                                       hash         author_email  \\\n",
       "0  9d225f34fd63daced3c58c3b7df8d540ec5fc826  scholtes@ifi.uzh.ch   \n",
       "1  d7def7ec7a8305990640d86470d97f1a16727c5a  scholtes@ifi.uzh.ch   \n",
       "2  40e36389f3443c8feb2a9274104c85e7e9c57fd5  scholtes@ifi.uzh.ch   \n",
       "3  7de40e6c54bae5f0f43bd056b710eac3e2153fc7    ischoltes@ethz.ch   \n",
       "4  db0e20b413363cb93447ed4567bb8e959fc7f306  scholtes@ifi.uzh.ch   \n",
       "\n",
       "     author_name      committer_email committer_name          author_date  \\\n",
       "0  Ingo Scholtes  scholtes@ifi.uzh.ch  Ingo Scholtes  2019-01-08 14:30:15   \n",
       "1  Ingo Scholtes  scholtes@ifi.uzh.ch  Ingo Scholtes  2019-01-08 10:58:20   \n",
       "2  Ingo Scholtes  scholtes@ifi.uzh.ch  Ingo Scholtes  2019-01-09 13:32:06   \n",
       "3  Ingo Scholtes    ischoltes@ethz.ch  Ingo Scholtes  2019-01-09 19:30:19   \n",
       "4  Ingo Scholtes  scholtes@ifi.uzh.ch  Ingo Scholtes  2019-01-08 19:48:13   \n",
       "\n",
       "        committer_date  author_timezone  committer_timezone  \\\n",
       "0  2019-01-08 14:30:15            -3600               -3600   \n",
       "1  2019-01-08 10:58:20            -3600               -3600   \n",
       "2  2019-01-09 13:32:06            -3600               -3600   \n",
       "3  2019-01-09 19:30:19            -3600               -3600   \n",
       "4  2019-01-08 19:48:13            -3600               -3600   \n",
       "\n",
       "   no_of_modifications  commit_message_len      project_name  \\\n",
       "0                    1                  19  git2net4analysis   \n",
       "1                    1                  14  git2net4analysis   \n",
       "2                    1                  12  git2net4analysis   \n",
       "3                    1                  12  git2net4analysis   \n",
       "4                    1                  15  git2net4analysis   \n",
       "\n",
       "                                    parents  merge  in_main_branch branches  \n",
       "0  d7def7ec7a8305990640d86470d97f1a16727c5a      0               1   master  \n",
       "1                                                0               1   master  \n",
       "2  69d9c6578fa1aafcbe2ed548159ba16cf39ffc46      0               1   master  \n",
       "3  d4b61a32104ca72d1f850077e5bfcfa479b43106      0               1   master  \n",
       "4  c71a73528640d81b325e19aa38a3f68e4fe34366      0               1   master  "
      ]
     },
     "execution_count": 6,
     "metadata": {},
     "output_type": "execute_result"
    }
   ],
   "source": [
    "import pandas as pd \n",
    "\n",
    "db = sqlite3.connect(sqlite_db_file)\n",
    "pdCommits = pd.read_sql_query(\"SELECT * FROM commits\", db)\n",
    "\n",
    "pdCommits.head(5)"
   ]
  },
  {
   "cell_type": "markdown",
   "metadata": {},
   "source": [
    "The headline lists all extracted features contained in `pdCommits`. How many records/commits are in the history?"
   ]
  },
  {
   "cell_type": "code",
   "execution_count": 7,
   "metadata": {},
   "outputs": [
    {
     "data": {
      "text/plain": [
       "(136, 16)"
      ]
     },
     "execution_count": 7,
     "metadata": {},
     "output_type": "execute_result"
    }
   ],
   "source": [
    "pdCommits.shape"
   ]
  },
  {
   "cell_type": "markdown",
   "metadata": {},
   "source": [
    "136 at the moment this tutorial was written. The collaborators in the project are"
   ]
  },
  {
   "cell_type": "code",
   "execution_count": 8,
   "metadata": {},
   "outputs": [
    {
     "data": {
      "text/plain": [
       "array(['Ingo Scholtes', 'Christoph Gote', 'Jan Philip', 'Sebastian Zug'],\n",
       "      dtype=object)"
      ]
     },
     "execution_count": 8,
     "metadata": {},
     "output_type": "execute_result"
    }
   ],
   "source": [
    "pdCommits.author_name.unique()"
   ]
  },
  {
   "cell_type": "markdown",
   "metadata": {},
   "source": [
    "How many commits did the individual authors contribute to the overall project?"
   ]
  },
  {
   "cell_type": "code",
   "execution_count": 9,
   "metadata": {},
   "outputs": [
    {
     "data": {
      "text/plain": [
       "author_name\n",
       "Christoph Gote    124\n",
       "Ingo Scholtes      10\n",
       "Jan Philip          1\n",
       "Sebastian Zug       1\n",
       "Name: hash, dtype: int64"
      ]
     },
     "execution_count": 9,
     "metadata": {},
     "output_type": "execute_result"
    }
   ],
   "source": [
    "pdCommits.groupby('author_name')['hash'].count()"
   ]
  },
  {
   "cell_type": "markdown",
   "metadata": {},
   "source": [
    "That's easy. I want to give a last example that applies the features of pandas. At which time git2net commits are usually submitted? Of course, GitHub and GitLab offers similar visualizations, but based on git2net and pandas you are able to filter your data set individually."
   ]
  },
  {
   "cell_type": "code",
   "execution_count": 10,
   "metadata": {},
   "outputs": [
    {
     "data": {
      "text/plain": [
       "<matplotlib.axes._subplots.AxesSubplot at 0x7fbe7e0535f8>"
      ]
     },
     "execution_count": 10,
     "metadata": {},
     "output_type": "execute_result"
    },
    {
     "data": {
      "image/png": "[encoded data removed]",
      "text/plain": [
       "<Figure size 1296x432 with 2 Axes>"
      ]
     },
     "metadata": {
      "needs_background": "light"
     },
     "output_type": "display_data"
    }
   ],
   "source": [
    "%matplotlib inline\n",
    "import matplotlib.pyplot as plt\n",
    "import seaborn as sns\n",
    "\n",
    "pdCommits['timestamp'] = pd.to_datetime(pdCommits['author_date'], format=\"%Y-%m-%d %H:%M:%S\")\n",
    "pdCommits['hours'] = pdCommits.timestamp.dt.hour\n",
    "pdCommits['days'] = pdCommits.timestamp.dt.dayofweek\n",
    "fig, ax = plt.subplots(figsize=(18,6))\n",
    "sns.heatmap(pdCommits.groupby(['days', 'hours'])['timestamp'].count().unstack(), annot=True, ax=ax)"
   ]
  },
  {
   "cell_type": "markdown",
   "metadata": {},
   "source": [
    "The diagram shows the week with Monday (0) to Sunday (6). Someone seams to work at the weekend too :-) Find out who it is!"
   ]
  },
  {
   "cell_type": "code",
   "execution_count": null,
   "metadata": {},
   "outputs": [],
   "source": []
  }
 ],
 "metadata": {
  "kernelspec": {
   "display_name": "Python 3",
   "language": "python",
   "name": "python3"
  },
  "language_info": {
   "codemirror_mode": {
    "name": "ipython",
    "version": 3
   },
   "file_extension": ".py",
   "mimetype": "text/x-python",
   "name": "python",
   "nbconvert_exporter": "python",
   "pygments_lexer": "ipython3",
   "version": "3.6.9"
  },
  "toc": {
   "base_numbering": 1,
   "nav_menu": {},
   "number_sections": true,
   "sideBar": true,
   "skip_h1_title": false,
   "title_cell": "Table of Contents",
   "title_sidebar": "Contents",
   "toc_cell": false,
   "toc_position": {},
   "toc_section_display": true,
   "toc_window_display": false
  }
 },
 "nbformat": 4,
 "nbformat_minor": 2
}
